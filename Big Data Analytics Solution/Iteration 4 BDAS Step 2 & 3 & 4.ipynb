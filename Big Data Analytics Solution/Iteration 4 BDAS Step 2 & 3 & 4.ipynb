{
 "cells": [
  {
   "cell_type": "code",
   "execution_count": 1,
   "metadata": {},
   "outputs": [],
   "source": [
    "import findspark\n",
    "findspark.init('/home/ubuntu/spark-2.1.1-bin-hadoop2.7')\n",
    "import pyspark\n",
    "from pyspark.sql import SparkSession\n",
    "from pyspark.sql.functions import col, when\n",
    "spark = SparkSession.builder.appName('Iteration 4_Sly').getOrCreate()\n",
    "import matplotlib.pyplot as plt\n",
    "from pyspark.ml.linalg import Vectors\n",
    "from pyspark.ml.feature import VectorAssembler, StringIndexer\n",
    "from pyspark.ml.regression import RandomForestRegressor\n",
    "from pyspark.ml.classification import DecisionTreeClassifier,RandomForestClassifier\n",
    "from pyspark.ml import Pipeline\n",
    "from pyspark.ml.evaluation import MulticlassClassificationEvaluator"
   ]
  },
  {
   "cell_type": "code",
   "execution_count": 2,
   "metadata": {},
   "outputs": [],
   "source": [
    "df = spark.read.csv('./AppleStore.csv', header=True)"
   ]
  },
  {
   "cell_type": "code",
   "execution_count": 3,
   "metadata": {
    "scrolled": true
   },
   "outputs": [
    {
     "name": "stdout",
     "output_type": "stream",
     "text": [
      "7197 17\n"
     ]
    }
   ],
   "source": [
    "#-------------------------------------------------Step 2 Data Understanding-------------------------------------------------\n",
    "print(df.count(),len(df.columns))"
   ]
  },
  {
   "cell_type": "code",
   "execution_count": 4,
   "metadata": {
    "scrolled": false
   },
   "outputs": [
    {
     "data": {
      "text/html": [
       "<div>\n",
       "<style scoped>\n",
       "    .dataframe tbody tr th:only-of-type {\n",
       "        vertical-align: middle;\n",
       "    }\n",
       "\n",
       "    .dataframe tbody tr th {\n",
       "        vertical-align: top;\n",
       "    }\n",
       "\n",
       "    .dataframe thead th {\n",
       "        text-align: right;\n",
       "    }\n",
       "</style>\n",
       "<table border=\"1\" class=\"dataframe\">\n",
       "  <thead>\n",
       "    <tr style=\"text-align: right;\">\n",
       "      <th></th>\n",
       "      <th>_c0</th>\n",
       "      <th>id</th>\n",
       "      <th>track_name</th>\n",
       "      <th>size_bytes</th>\n",
       "      <th>currency</th>\n",
       "      <th>price</th>\n",
       "      <th>rating_count_tot</th>\n",
       "      <th>rating_count_ver</th>\n",
       "      <th>user_rating</th>\n",
       "      <th>user_rating_ver</th>\n",
       "      <th>ver</th>\n",
       "      <th>cont_rating</th>\n",
       "      <th>prime_genre</th>\n",
       "      <th>sup_devices.num</th>\n",
       "      <th>ipadSc_urls.num</th>\n",
       "      <th>lang.num</th>\n",
       "      <th>vpp_lic</th>\n",
       "    </tr>\n",
       "  </thead>\n",
       "  <tbody>\n",
       "    <tr>\n",
       "      <th>0</th>\n",
       "      <td>1</td>\n",
       "      <td>281656475</td>\n",
       "      <td>PAC-MAN Premium</td>\n",
       "      <td>100788224</td>\n",
       "      <td>USD</td>\n",
       "      <td>3.99</td>\n",
       "      <td>21292</td>\n",
       "      <td>26</td>\n",
       "      <td>4</td>\n",
       "      <td>4.5</td>\n",
       "      <td>6.3.5</td>\n",
       "      <td>4+</td>\n",
       "      <td>Games</td>\n",
       "      <td>38</td>\n",
       "      <td>5</td>\n",
       "      <td>10</td>\n",
       "      <td>1</td>\n",
       "    </tr>\n",
       "    <tr>\n",
       "      <th>1</th>\n",
       "      <td>2</td>\n",
       "      <td>281796108</td>\n",
       "      <td>Evernote - stay organized</td>\n",
       "      <td>158578688</td>\n",
       "      <td>USD</td>\n",
       "      <td>0</td>\n",
       "      <td>161065</td>\n",
       "      <td>26</td>\n",
       "      <td>4</td>\n",
       "      <td>3.5</td>\n",
       "      <td>8.2.2</td>\n",
       "      <td>4+</td>\n",
       "      <td>Productivity</td>\n",
       "      <td>37</td>\n",
       "      <td>5</td>\n",
       "      <td>23</td>\n",
       "      <td>1</td>\n",
       "    </tr>\n",
       "    <tr>\n",
       "      <th>2</th>\n",
       "      <td>3</td>\n",
       "      <td>281940292</td>\n",
       "      <td>WeatherBug - Local Weather, Radar, Maps, Alerts</td>\n",
       "      <td>100524032</td>\n",
       "      <td>USD</td>\n",
       "      <td>0</td>\n",
       "      <td>188583</td>\n",
       "      <td>2822</td>\n",
       "      <td>3.5</td>\n",
       "      <td>4.5</td>\n",
       "      <td>5.0.0</td>\n",
       "      <td>4+</td>\n",
       "      <td>Weather</td>\n",
       "      <td>37</td>\n",
       "      <td>5</td>\n",
       "      <td>3</td>\n",
       "      <td>1</td>\n",
       "    </tr>\n",
       "    <tr>\n",
       "      <th>3</th>\n",
       "      <td>4</td>\n",
       "      <td>282614216</td>\n",
       "      <td>eBay: Best App to Buy, Sell, Save! Online Shop...</td>\n",
       "      <td>128512000</td>\n",
       "      <td>USD</td>\n",
       "      <td>0</td>\n",
       "      <td>262241</td>\n",
       "      <td>649</td>\n",
       "      <td>4</td>\n",
       "      <td>4.5</td>\n",
       "      <td>5.10.0</td>\n",
       "      <td>12+</td>\n",
       "      <td>Shopping</td>\n",
       "      <td>37</td>\n",
       "      <td>5</td>\n",
       "      <td>9</td>\n",
       "      <td>1</td>\n",
       "    </tr>\n",
       "    <tr>\n",
       "      <th>4</th>\n",
       "      <td>5</td>\n",
       "      <td>282935706</td>\n",
       "      <td>Bible</td>\n",
       "      <td>92774400</td>\n",
       "      <td>USD</td>\n",
       "      <td>0</td>\n",
       "      <td>985920</td>\n",
       "      <td>5320</td>\n",
       "      <td>4.5</td>\n",
       "      <td>5</td>\n",
       "      <td>7.5.1</td>\n",
       "      <td>4+</td>\n",
       "      <td>Reference</td>\n",
       "      <td>37</td>\n",
       "      <td>5</td>\n",
       "      <td>45</td>\n",
       "      <td>1</td>\n",
       "    </tr>\n",
       "  </tbody>\n",
       "</table>\n",
       "</div>"
      ],
      "text/plain": [
       "  _c0         id                                         track_name  \\\n",
       "0   1  281656475                                    PAC-MAN Premium   \n",
       "1   2  281796108                          Evernote - stay organized   \n",
       "2   3  281940292    WeatherBug - Local Weather, Radar, Maps, Alerts   \n",
       "3   4  282614216  eBay: Best App to Buy, Sell, Save! Online Shop...   \n",
       "4   5  282935706                                              Bible   \n",
       "\n",
       "  size_bytes currency price rating_count_tot rating_count_ver user_rating  \\\n",
       "0  100788224      USD  3.99            21292               26           4   \n",
       "1  158578688      USD     0           161065               26           4   \n",
       "2  100524032      USD     0           188583             2822         3.5   \n",
       "3  128512000      USD     0           262241              649           4   \n",
       "4   92774400      USD     0           985920             5320         4.5   \n",
       "\n",
       "  user_rating_ver     ver cont_rating   prime_genre sup_devices.num  \\\n",
       "0             4.5   6.3.5          4+         Games              38   \n",
       "1             3.5   8.2.2          4+  Productivity              37   \n",
       "2             4.5   5.0.0          4+       Weather              37   \n",
       "3             4.5  5.10.0         12+      Shopping              37   \n",
       "4               5   7.5.1          4+     Reference              37   \n",
       "\n",
       "  ipadSc_urls.num lang.num vpp_lic  \n",
       "0               5       10       1  \n",
       "1               5       23       1  \n",
       "2               5        3       1  \n",
       "3               5        9       1  \n",
       "4               5       45       1  "
      ]
     },
     "metadata": {},
     "output_type": "display_data"
    },
    {
     "data": {
      "text/html": [
       "<div>\n",
       "<style scoped>\n",
       "    .dataframe tbody tr th:only-of-type {\n",
       "        vertical-align: middle;\n",
       "    }\n",
       "\n",
       "    .dataframe tbody tr th {\n",
       "        vertical-align: top;\n",
       "    }\n",
       "\n",
       "    .dataframe thead th {\n",
       "        text-align: right;\n",
       "    }\n",
       "</style>\n",
       "<table border=\"1\" class=\"dataframe\">\n",
       "  <thead>\n",
       "    <tr style=\"text-align: right;\">\n",
       "      <th></th>\n",
       "      <th>_c0</th>\n",
       "      <th>id</th>\n",
       "      <th>track_name</th>\n",
       "      <th>size_bytes</th>\n",
       "      <th>currency</th>\n",
       "      <th>price</th>\n",
       "      <th>rating_count_tot</th>\n",
       "      <th>rating_count_ver</th>\n",
       "      <th>user_rating</th>\n",
       "      <th>user_rating_ver</th>\n",
       "      <th>ver</th>\n",
       "      <th>cont_rating</th>\n",
       "      <th>prime_genre</th>\n",
       "      <th>sup_devices.num</th>\n",
       "      <th>ipadSc_urls.num</th>\n",
       "      <th>lang.num</th>\n",
       "      <th>vpp_lic</th>\n",
       "    </tr>\n",
       "  </thead>\n",
       "  <tbody>\n",
       "    <tr>\n",
       "      <th>7192</th>\n",
       "      <td>11081</td>\n",
       "      <td>1187617475</td>\n",
       "      <td>Kubik</td>\n",
       "      <td>126644224</td>\n",
       "      <td>USD</td>\n",
       "      <td>0</td>\n",
       "      <td>142</td>\n",
       "      <td>75</td>\n",
       "      <td>4.5</td>\n",
       "      <td>4.5</td>\n",
       "      <td>1.3</td>\n",
       "      <td>4+</td>\n",
       "      <td>Games</td>\n",
       "      <td>38</td>\n",
       "      <td>5</td>\n",
       "      <td>1</td>\n",
       "      <td>1</td>\n",
       "    </tr>\n",
       "    <tr>\n",
       "      <th>7193</th>\n",
       "      <td>11082</td>\n",
       "      <td>1187682390</td>\n",
       "      <td>VR Roller-Coaster</td>\n",
       "      <td>120760320</td>\n",
       "      <td>USD</td>\n",
       "      <td>0</td>\n",
       "      <td>30</td>\n",
       "      <td>30</td>\n",
       "      <td>4.5</td>\n",
       "      <td>4.5</td>\n",
       "      <td>0.9</td>\n",
       "      <td>4+</td>\n",
       "      <td>Games</td>\n",
       "      <td>38</td>\n",
       "      <td>0</td>\n",
       "      <td>1</td>\n",
       "      <td>1</td>\n",
       "    </tr>\n",
       "    <tr>\n",
       "      <th>7194</th>\n",
       "      <td>11087</td>\n",
       "      <td>1187779532</td>\n",
       "      <td>Bret Michaels Emojis + Lyric Keyboard</td>\n",
       "      <td>111322112</td>\n",
       "      <td>USD</td>\n",
       "      <td>1.99</td>\n",
       "      <td>15</td>\n",
       "      <td>0</td>\n",
       "      <td>4.5</td>\n",
       "      <td>0</td>\n",
       "      <td>1.0.2</td>\n",
       "      <td>9+</td>\n",
       "      <td>Utilities</td>\n",
       "      <td>37</td>\n",
       "      <td>1</td>\n",
       "      <td>1</td>\n",
       "      <td>1</td>\n",
       "    </tr>\n",
       "    <tr>\n",
       "      <th>7195</th>\n",
       "      <td>11089</td>\n",
       "      <td>1187838770</td>\n",
       "      <td>VR Roller Coaster World - Virtual Reality</td>\n",
       "      <td>97235968</td>\n",
       "      <td>USD</td>\n",
       "      <td>0</td>\n",
       "      <td>85</td>\n",
       "      <td>32</td>\n",
       "      <td>4.5</td>\n",
       "      <td>4.5</td>\n",
       "      <td>1.0.15</td>\n",
       "      <td>12+</td>\n",
       "      <td>Games</td>\n",
       "      <td>38</td>\n",
       "      <td>0</td>\n",
       "      <td>2</td>\n",
       "      <td>1</td>\n",
       "    </tr>\n",
       "    <tr>\n",
       "      <th>7196</th>\n",
       "      <td>11097</td>\n",
       "      <td>1188375727</td>\n",
       "      <td>Escape the Sweet Shop Series</td>\n",
       "      <td>90898432</td>\n",
       "      <td>USD</td>\n",
       "      <td>0</td>\n",
       "      <td>3</td>\n",
       "      <td>3</td>\n",
       "      <td>5</td>\n",
       "      <td>5</td>\n",
       "      <td>1.0</td>\n",
       "      <td>4+</td>\n",
       "      <td>Games</td>\n",
       "      <td>40</td>\n",
       "      <td>0</td>\n",
       "      <td>2</td>\n",
       "      <td>1</td>\n",
       "    </tr>\n",
       "  </tbody>\n",
       "</table>\n",
       "</div>"
      ],
      "text/plain": [
       "        _c0          id                                 track_name size_bytes  \\\n",
       "7192  11081  1187617475                                      Kubik  126644224   \n",
       "7193  11082  1187682390                          VR Roller-Coaster  120760320   \n",
       "7194  11087  1187779532      Bret Michaels Emojis + Lyric Keyboard  111322112   \n",
       "7195  11089  1187838770  VR Roller Coaster World - Virtual Reality   97235968   \n",
       "7196  11097  1188375727               Escape the Sweet Shop Series   90898432   \n",
       "\n",
       "     currency price rating_count_tot rating_count_ver user_rating  \\\n",
       "7192      USD     0              142               75         4.5   \n",
       "7193      USD     0               30               30         4.5   \n",
       "7194      USD  1.99               15                0         4.5   \n",
       "7195      USD     0               85               32         4.5   \n",
       "7196      USD     0                3                3           5   \n",
       "\n",
       "     user_rating_ver     ver cont_rating prime_genre sup_devices.num  \\\n",
       "7192             4.5     1.3          4+       Games              38   \n",
       "7193             4.5     0.9          4+       Games              38   \n",
       "7194               0   1.0.2          9+   Utilities              37   \n",
       "7195             4.5  1.0.15         12+       Games              38   \n",
       "7196               5     1.0          4+       Games              40   \n",
       "\n",
       "     ipadSc_urls.num lang.num vpp_lic  \n",
       "7192               5        1       1  \n",
       "7193               0        1       1  \n",
       "7194               1        1       1  \n",
       "7195               0        2       1  \n",
       "7196               0        2       1  "
      ]
     },
     "metadata": {},
     "output_type": "display_data"
    }
   ],
   "source": [
    "pandasdf = df.toPandas()\n",
    "display(pandasdf.head(5))\n",
    "display(pandasdf.tail(5))"
   ]
  },
  {
   "cell_type": "code",
   "execution_count": 5,
   "metadata": {
    "scrolled": false
   },
   "outputs": [
    {
     "data": {
      "text/plain": [
       "[('_c0', 'string'),\n",
       " ('id', 'string'),\n",
       " ('track_name', 'string'),\n",
       " ('size_bytes', 'string'),\n",
       " ('currency', 'string'),\n",
       " ('price', 'string'),\n",
       " ('rating_count_tot', 'string'),\n",
       " ('rating_count_ver', 'string'),\n",
       " ('user_rating', 'string'),\n",
       " ('user_rating_ver', 'string'),\n",
       " ('ver', 'string'),\n",
       " ('cont_rating', 'string'),\n",
       " ('prime_genre', 'string'),\n",
       " ('sup_devices.num', 'string'),\n",
       " ('ipadSc_urls.num', 'string'),\n",
       " ('lang.num', 'string'),\n",
       " ('vpp_lic', 'string')]"
      ]
     },
     "execution_count": 5,
     "metadata": {},
     "output_type": "execute_result"
    }
   ],
   "source": [
    "df.dtypes"
   ]
  },
  {
   "cell_type": "code",
   "execution_count": 6,
   "metadata": {
    "scrolled": true
   },
   "outputs": [
    {
     "name": "stdout",
     "output_type": "stream",
     "text": [
      "Row(_c0='1', id='281656475', track_name='PAC-MAN Premium', size_bytes='100788224', currency='USD', price='3.99', rating_count_tot='21292', rating_count_ver='26', user_rating='4', user_rating_ver='4.5', ver='6.3.5', cont_rating='4+', prime_genre='Games', sup_devices.num='38', ipadSc_urls.num='5', lang.num='10', vpp_lic='1')\n",
      "Row(_c0='11097', id='1188375727', track_name='Escape the Sweet Shop Series', size_bytes='90898432', currency='USD', price='0', rating_count_tot='3', rating_count_ver='3', user_rating='5', user_rating_ver='5', ver='1.0', cont_rating='4+', prime_genre='Games', sup_devices.num='40', ipadSc_urls.num='0', lang.num='2', vpp_lic='1')\n"
     ]
    }
   ],
   "source": [
    "print(df.collect()[0])\n",
    "print(df.collect()[-1])"
   ]
  },
  {
   "cell_type": "code",
   "execution_count": 7,
   "metadata": {
    "scrolled": false
   },
   "outputs": [
    {
     "data": {
      "image/png": "[encoded data removed]",
      "text/plain": [
       "<Figure size 432x288 with 1 Axes>"
      ]
     },
     "metadata": {},
     "output_type": "display_data"
    }
   ],
   "source": [
    "dfbar = df.groupby('user_rating').count().orderBy(df.user_rating.asc())\n",
    "dfbar_x = dfbar.toPandas()['user_rating'].values.tolist()\n",
    "dfbar_y = dfbar.toPandas()['count'].values.tolist()\n",
    "plt.bar(dfbar_x, dfbar_y)\n",
    "plt.xlabel('User Rating')\n",
    "plt.ylabel('Count')\n",
    "plt.show()"
   ]
  },
  {
   "cell_type": "code",
   "execution_count": 8,
   "metadata": {
    "scrolled": false
   },
   "outputs": [
    {
     "data": {
      "image/png": "[encoded data removed]",
      "text/plain": [
       "<Figure size 1800x576 with 1 Axes>"
      ]
     },
     "metadata": {},
     "output_type": "display_data"
    }
   ],
   "source": [
    "plt.figure(figsize=(25,8))\n",
    "dfbar2 = df.groupby('price').count().orderBy(df.price.cast('float').asc())\n",
    "dfbar2_x = dfbar2.toPandas()['price'].values.tolist()\n",
    "dfbar2_y = dfbar2.toPandas()['count'].values.tolist()\n",
    "plt.bar(dfbar2_x, dfbar2_y)\n",
    "plt.xlabel('Price')\n",
    "plt.ylabel('Count')\n",
    "plt.show()"
   ]
  },
  {
   "cell_type": "code",
   "execution_count": 9,
   "metadata": {
    "scrolled": false
   },
   "outputs": [
    {
     "data": {
      "image/png": "[encoded data removed]",
      "text/plain": [
       "<Figure size 2160x1008 with 1 Axes>"
      ]
     },
     "metadata": {},
     "output_type": "display_data"
    }
   ],
   "source": [
    "plt.figure(figsize=(30,14))\n",
    "dfbar3 = df.groupby('prime_genre').count().orderBy(df.prime_genre.asc())\n",
    "dfbar3_x = dfbar3.toPandas()['prime_genre'].values.tolist()\n",
    "dfbar3_y = dfbar3.toPandas()['count'].values.tolist()\n",
    "plt.bar(dfbar3_x, dfbar3_y, color=['r','g','b','c','m','y','k'])\n",
    "plt.xlabel('Prime Genre')\n",
    "plt.ylabel('Count')\n",
    "plt.show()"
   ]
  },
  {
   "cell_type": "code",
   "execution_count": 10,
   "metadata": {
    "scrolled": false
   },
   "outputs": [
    {
     "data": {
      "image/png": "[encoded data removed]",
      "text/plain": [
       "<Figure size 2160x1008 with 1 Axes>"
      ]
     },
     "metadata": {},
     "output_type": "display_data"
    }
   ],
   "source": [
    "plt.figure(figsize=(30,14))\n",
    "df2 = df\n",
    "df2 = df.withColumn('rating_count_tot',df.rating_count_tot.cast('int'))\n",
    "dfbar4 = df2.groupby('prime_genre').sum('rating_count_tot').orderBy(df2.prime_genre.asc())\n",
    "dfbar4_x = dfbar4.toPandas()['prime_genre'].values.tolist()\n",
    "dfbar4_y = dfbar4.toPandas()['sum(rating_count_tot)'].values.tolist()\n",
    "plt.bar(dfbar4_x, dfbar4_y, color=['r','g','b','c','m','y','k'])\n",
    "plt.xlabel('Prime Genre')\n",
    "plt.ylabel('Total Rating Count')\n",
    "plt.show()"
   ]
  },
  {
   "cell_type": "code",
   "execution_count": 11,
   "metadata": {
    "scrolled": false
   },
   "outputs": [
    {
     "name": "stdout",
     "output_type": "stream",
     "text": [
      "0                                      PAC-MAN Premium\n",
      "1                            Evernote - stay organized\n",
      "2      WeatherBug - Local Weather, Radar, Maps, Alerts\n",
      "3    eBay: Best App to Buy, Sell, Save! Online Shop...\n",
      "4                                                Bible\n",
      "Name: track_name, dtype: object\n",
      "0     6.3.5\n",
      "1     8.2.2\n",
      "2     5.0.0\n",
      "3    5.10.0\n",
      "4     7.5.1\n",
      "Name: ver, dtype: object\n",
      "0    USD\n",
      "1    USD\n",
      "2    USD\n",
      "3    USD\n",
      "4    USD\n",
      "Name: currency, dtype: object\n",
      "0     4+\n",
      "1     4+\n",
      "2     4+\n",
      "3    12+\n",
      "4     4+\n",
      "Name: cont_rating, dtype: object\n",
      "0           Games\n",
      "1    Productivity\n",
      "2         Weather\n",
      "3        Shopping\n",
      "4       Reference\n",
      "Name: prime_genre, dtype: object\n",
      "0    5\n",
      "1    5\n",
      "2    5\n",
      "3    5\n",
      "4    5\n",
      "Name: ipadSc_urls.num, dtype: object\n",
      "0    1\n",
      "1    1\n",
      "2    1\n",
      "3    1\n",
      "4    1\n",
      "Name: vpp_lic, dtype: object\n"
     ]
    }
   ],
   "source": [
    "print(pandasdf['track_name'].head(5))\n",
    "print(pandasdf['ver'].head(5))\n",
    "print(pandasdf['currency'].head(5))\n",
    "print(pandasdf['cont_rating'].head(5))\n",
    "print(pandasdf['prime_genre'].head(5))\n",
    "print(pandasdf['ipadSc_urls.num'].head(5))\n",
    "print(pandasdf['vpp_lic'].head(5))"
   ]
  },
  {
   "cell_type": "code",
   "execution_count": 12,
   "metadata": {
    "scrolled": true
   },
   "outputs": [
    {
     "name": "stdout",
     "output_type": "stream",
     "text": [
      "currency ['USD']\n",
      "cont_rating ['4+' '12+' '17+' '9+']\n",
      "prime_genre ['Games' 'Productivity' 'Weather' 'Shopping' 'Reference' 'Finance' 'Music'\n",
      " 'Utilities' 'Travel' 'Social Networking' 'Sports' 'Business'\n",
      " 'Health & Fitness' 'Entertainment' 'Photo & Video' 'Navigation'\n",
      " 'Education' 'Lifestyle' 'Food & Drink' 'News' 'Book' 'Medical' 'Catalogs']\n",
      "ipadSc_urls.num ['5' '0' '4' '1' '3' '2']\n",
      "vpp_lic ['1' '0']\n"
     ]
    }
   ],
   "source": [
    "print('currency',pandasdf['currency'].unique())\n",
    "print('cont_rating',pandasdf['cont_rating'].unique())\n",
    "print('prime_genre',pandasdf['prime_genre'].unique())\n",
    "print('ipadSc_urls.num',pandasdf['ipadSc_urls.num'].unique())\n",
    "print('vpp_lic',pandasdf['vpp_lic'].unique())"
   ]
  },
  {
   "cell_type": "code",
   "execution_count": 13,
   "metadata": {
    "scrolled": false
   },
   "outputs": [
    {
     "name": "stdout",
     "output_type": "stream",
     "text": [
      "_c0                 0\n",
      "id                  0\n",
      "track_name          0\n",
      "size_bytes          0\n",
      "currency            0\n",
      "price               0\n",
      "rating_count_tot    0\n",
      "rating_count_ver    0\n",
      "user_rating         0\n",
      "user_rating_ver     0\n",
      "ver                 0\n",
      "cont_rating         0\n",
      "prime_genre         0\n",
      "sup_devices.num     0\n",
      "ipadSc_urls.num     0\n",
      "lang.num            0\n",
      "vpp_lic             0\n",
      "dtype: int64\n"
     ]
    }
   ],
   "source": [
    "print(pandasdf.isnull().sum())"
   ]
  },
  {
   "cell_type": "code",
   "execution_count": 14,
   "metadata": {
    "scrolled": false
   },
   "outputs": [
    {
     "name": "stdout",
     "output_type": "stream",
     "text": [
      "+-------+-------------------+\n",
      "|summary|         size_bytes|\n",
      "+-------+-------------------+\n",
      "|  count|               7197|\n",
      "|   mean| 1.99134453825066E8|\n",
      "| stddev|3.592069135387029E8|\n",
      "|    min|          100000768|\n",
      "|    max|           99992576|\n",
      "+-------+-------------------+\n",
      "\n",
      "+-------+------------------+\n",
      "|summary|  rating_count_tot|\n",
      "+-------+------------------+\n",
      "|  count|              7197|\n",
      "|   mean|12892.907183548701|\n",
      "| stddev| 75739.40867472602|\n",
      "|    min|                 0|\n",
      "|    max|               999|\n",
      "+-------+------------------+\n",
      "\n",
      "+-------+------------------+\n",
      "|summary|  rating_count_ver|\n",
      "+-------+------------------+\n",
      "|  count|              7197|\n",
      "|   mean| 460.3739057940809|\n",
      "| stddev|3920.4551833619757|\n",
      "|    min|                 0|\n",
      "|    max|               999|\n",
      "+-------+------------------+\n",
      "\n",
      "+-------+------------------+\n",
      "|summary|    sup_devicesnum|\n",
      "+-------+------------------+\n",
      "|  count|              7197|\n",
      "|   mean| 37.36181742392664|\n",
      "| stddev|3.7377152388584527|\n",
      "|    min|                 9|\n",
      "|    max|                47|\n",
      "+-------+------------------+\n",
      "\n",
      "+-------+-----------------+\n",
      "|summary|          langnum|\n",
      "+-------+-----------------+\n",
      "|  count|             7197|\n",
      "|   mean| 5.43490343198555|\n",
      "| stddev|7.919592722881359|\n",
      "|    min|                0|\n",
      "|    max|               75|\n",
      "+-------+-----------------+\n",
      "\n"
     ]
    }
   ],
   "source": [
    "df2 = df2.withColumnRenamed('sup_devices.num','sup_devicesnum').withColumnRenamed('lang.num','langnum')\n",
    "df2 = df2.withColumn('sup_devicesnum',df2.sup_devicesnum.cast('int')).withColumn('langnum',df2.langnum.cast('int'))\n",
    "df.describe('size_bytes').show()\n",
    "df.describe('rating_count_tot').show()\n",
    "df.describe('rating_count_ver').show()\n",
    "df2.describe('sup_devicesnum').show()\n",
    "df2.describe('langnum').show()"
   ]
  },
  {
   "cell_type": "code",
   "execution_count": 15,
   "metadata": {
    "scrolled": true
   },
   "outputs": [
    {
     "name": "stdout",
     "output_type": "stream",
     "text": [
      "Old Columns Name: ['_c0', 'id', 'track_name', 'size_bytes', 'currency', 'price', 'rating_count_tot', 'rating_count_ver', 'user_rating', 'user_rating_ver', 'ver', 'cont_rating', 'prime_genre', 'sup_devices.num', 'ipadSc_urls.num', 'lang.num', 'vpp_lic']\n",
      "New Columns Nmae: ['No', 'ID', 'AppName', 'AppSize_Bytes', 'Currency', 'Price', 'TotalRatingCount', 'TotalRatingCount_CurrentVersion', 'UserRating', 'UserRating_CurrentVersion', 'Version', 'AppRestriction', 'AppType', 'SupportDeviceNum', 'DisplayedScreenshotNum', 'SupportLanguageNum', 'VppLicense']\n"
     ]
    }
   ],
   "source": [
    "#-----------------------------------------------------Step 3 Preparation-----------------------------------------------------\n",
    "df3 = df\n",
    "df3 = df3.withColumnRenamed('_c0','No').withColumnRenamed('id','ID').withColumnRenamed('track_name','AppName')\n",
    "df3 = df3.withColumnRenamed('size_bytes','AppSize_Bytes').withColumnRenamed('currency','Currency').withColumnRenamed('price','Price')\n",
    "df3 = df3.withColumnRenamed('rating_count_tot','TotalRatingCount').withColumnRenamed('rating_count_ver','TotalRatingCount_CurrentVersion')\n",
    "df3 = df3.withColumnRenamed('user_rating','UserRating').withColumnRenamed('user_rating_ver','UserRating_CurrentVersion')\n",
    "df3 = df3.withColumnRenamed('ver','Version').withColumnRenamed('cont_rating','AppRestriction').withColumnRenamed('prime_genre','AppType')\n",
    "df3 = df3.withColumnRenamed('sup_devices.num','SupportDeviceNum').withColumnRenamed('ipadSc_urls.num','DisplayedScreenshotNum')\n",
    "df3 = df3.withColumnRenamed('lang.num','SupportLanguageNum').withColumnRenamed('vpp_lic','VppLicense')\n",
    "print('Old Columns Name:',df.columns)\n",
    "print('New Columns Nmae:',df3.columns)"
   ]
  },
  {
   "cell_type": "code",
   "execution_count": 16,
   "metadata": {
    "scrolled": false
   },
   "outputs": [
    {
     "data": {
      "text/plain": [
       "[('No', 'int'),\n",
       " ('ID', 'int'),\n",
       " ('AppName', 'string'),\n",
       " ('AppSize_Bytes', 'int'),\n",
       " ('Currency', 'string'),\n",
       " ('Price', 'float'),\n",
       " ('TotalRatingCount', 'int'),\n",
       " ('TotalRatingCount_CurrentVersion', 'int'),\n",
       " ('UserRating', 'float'),\n",
       " ('UserRating_CurrentVersion', 'float'),\n",
       " ('Version', 'string'),\n",
       " ('AppRestriction', 'string'),\n",
       " ('AppType', 'string'),\n",
       " ('SupportDeviceNum', 'int'),\n",
       " ('DisplayedScreenshotNum', 'int'),\n",
       " ('SupportLanguageNum', 'int'),\n",
       " ('VppLicense', 'int')]"
      ]
     },
     "execution_count": 16,
     "metadata": {},
     "output_type": "execute_result"
    }
   ],
   "source": [
    "df3 = df3.withColumn('No',df3.No.cast('int'))\n",
    "df3 = df3.withColumn('ID',df3.ID.cast('int'))\n",
    "df3 = df3.withColumn('AppSize_Bytes',df3.AppSize_Bytes.cast('int'))\n",
    "df3 = df3.withColumn('Price',df3.Price.cast('float'))\n",
    "df3 = df3.withColumn('TotalRatingCount',df3.TotalRatingCount.cast('int'))\n",
    "df3 = df3.withColumn('TotalRatingCount_CurrentVersion',df3.TotalRatingCount_CurrentVersion.cast('int'))\n",
    "df3 = df3.withColumn('UserRating',df3.UserRating.cast('float'))\n",
    "df3 = df3.withColumn('UserRating_CurrentVersion',df3.UserRating_CurrentVersion.cast('float'))\n",
    "df3 = df3.withColumn('SupportDeviceNum',df3.SupportDeviceNum.cast('int'))\n",
    "df3 = df3.withColumn('DisplayedScreenshotNum',df3.DisplayedScreenshotNum.cast('int'))\n",
    "df3 = df3.withColumn('SupportLanguageNum',df3.SupportLanguageNum.cast('int'))\n",
    "df3 = df3.withColumn('VppLicense',df3.VppLicense.cast('int'))\n",
    "df3.dtypes"
   ]
  },
  {
   "cell_type": "code",
   "execution_count": 17,
   "metadata": {
    "scrolled": false
   },
   "outputs": [
    {
     "name": "stdout",
     "output_type": "stream",
     "text": [
      "+---------+----------------+----------+\n",
      "|       ID|TotalRatingCount|UserRating|\n",
      "+---------+----------------+----------+\n",
      "|329174056|               0|       0.0|\n",
      "|350480010|               0|       0.0|\n",
      "|355709084|               0|       0.0|\n",
      "|377321278|               0|       0.0|\n",
      "|379256460|               0|       0.0|\n",
      "|389543438|               0|       0.0|\n",
      "|391947489|               0|       0.0|\n",
      "|394342281|               0|       0.0|\n",
      "|398166286|               0|       0.0|\n",
      "|404529222|               0|       0.0|\n",
      "|411608323|               0|       0.0|\n",
      "|413246702|               0|       0.0|\n",
      "|413487517|               0|       0.0|\n",
      "|422845617|               0|       0.0|\n",
      "|432278816|               0|       0.0|\n",
      "|432455516|               0|       0.0|\n",
      "|436180275|               0|       0.0|\n",
      "|443324720|               0|       0.0|\n",
      "|445300213|               0|       0.0|\n",
      "|447024088|               0|       0.0|\n",
      "+---------+----------------+----------+\n",
      "only showing top 20 rows\n",
      "\n",
      "+-----------------+\n",
      "|0_Rating_Apps_Num|\n",
      "+-----------------+\n",
      "|              929|\n",
      "+-----------------+\n",
      "\n"
     ]
    }
   ],
   "source": [
    "df3.createOrReplaceTempView(\"0_rating\")\n",
    "spark.sql('select ID,TotalRatingCount,UserRating from 0_rating where TotalRatingCount = 0 and UserRating = 0').show()\n",
    "spark.sql('select count(*) as 0_Rating_Apps_Num from 0_rating where TotalRatingCount = 0 and UserRating = 0').show()"
   ]
  },
  {
   "cell_type": "code",
   "execution_count": 18,
   "metadata": {},
   "outputs": [
    {
     "name": "stdout",
     "output_type": "stream",
     "text": [
      "+--------------------+\n",
      "|Null_Rating_Apps_Num|\n",
      "+--------------------+\n",
      "|                 929|\n",
      "+--------------------+\n",
      "\n",
      "12.90815617618452\n"
     ]
    }
   ],
   "source": [
    "null_rating =  df3.withColumn(\n",
    "    'UserRating',\n",
    "    when(\n",
    "        col('UserRating') == 0, None\n",
    "    ).otherwise(col('UserRating'))\n",
    ")\n",
    "null_rating.createOrReplaceTempView(\"null_rating\")\n",
    "spark.sql('select count(*) as Null_Rating_Apps_Num from null_rating where UserRating is null').show()\n",
    "print(100 - null_rating.na.drop(subset=['UserRating']).count()/null_rating.count() * 100)"
   ]
  },
  {
   "cell_type": "code",
   "execution_count": 19,
   "metadata": {},
   "outputs": [
    {
     "name": "stdout",
     "output_type": "stream",
     "text": [
      "6268 17\n"
     ]
    }
   ],
   "source": [
    "df3 = null_rating\n",
    "df3_1 = df3.na.drop(subset=['UserRating'])\n",
    "print(df3_1.count(),len(df3_1.columns))"
   ]
  },
  {
   "cell_type": "code",
   "execution_count": 20,
   "metadata": {
    "scrolled": false
   },
   "outputs": [
    {
     "name": "stdout",
     "output_type": "stream",
     "text": [
      "+----------+\n",
      "|UserRating|\n",
      "+----------+\n",
      "|       4.0|\n",
      "|       4.0|\n",
      "|       3.5|\n",
      "|       4.0|\n",
      "|       4.5|\n",
      "|       4.0|\n",
      "|       4.0|\n",
      "|       4.0|\n",
      "|       4.5|\n",
      "|       4.0|\n",
      "|       4.5|\n",
      "|       3.5|\n",
      "|       3.5|\n",
      "|       3.5|\n",
      "|       4.5|\n",
      "|       4.0|\n",
      "|       3.5|\n",
      "|       4.0|\n",
      "|       4.0|\n",
      "|       4.0|\n",
      "+----------+\n",
      "only showing top 20 rows\n",
      "\n",
      "+-----------+\n",
      "| UserRating|\n",
      "+-----------+\n",
      "|High Rating|\n",
      "|High Rating|\n",
      "| Low Rating|\n",
      "|High Rating|\n",
      "|High Rating|\n",
      "|High Rating|\n",
      "|High Rating|\n",
      "|High Rating|\n",
      "|High Rating|\n",
      "|High Rating|\n",
      "|High Rating|\n",
      "| Low Rating|\n",
      "| Low Rating|\n",
      "| Low Rating|\n",
      "|High Rating|\n",
      "|High Rating|\n",
      "| Low Rating|\n",
      "|High Rating|\n",
      "|High Rating|\n",
      "|High Rating|\n",
      "+-----------+\n",
      "only showing top 20 rows\n",
      "\n"
     ]
    }
   ],
   "source": [
    "rating_level = df3_1.withColumn(\n",
    "    'UserRating',\n",
    "    when(col('UserRating') <= 3.5, 'Low Rating').when(col('UserRating') > 3.5, 'High Rating')\n",
    ")\n",
    "df3_1.select('UserRating').show()\n",
    "rating_level.select('UserRating').show()"
   ]
  },
  {
   "cell_type": "code",
   "execution_count": 21,
   "metadata": {
    "scrolled": false
   },
   "outputs": [
    {
     "data": {
      "image/png": "[encoded data removed]",
      "text/plain": [
       "<Figure size 432x288 with 1 Axes>"
      ]
     },
     "metadata": {},
     "output_type": "display_data"
    }
   ],
   "source": [
    "rating_level_bar = rating_level.groupby('UserRating').count()\n",
    "rating_level_x = rating_level_bar.toPandas()['UserRating'].values.tolist()\n",
    "rating_level_y = rating_level_bar.toPandas()['count'].values.tolist()\n",
    "plt.bar(rating_level_x, rating_level_y, width = 0.4)\n",
    "plt.xlabel('Rating Level')\n",
    "plt.ylabel('Count')\n",
    "plt.show()"
   ]
  },
  {
   "cell_type": "code",
   "execution_count": 22,
   "metadata": {},
   "outputs": [
    {
     "name": "stdout",
     "output_type": "stream",
     "text": [
      "['ID', 'AppSize_Bytes', 'Price', 'TotalRatingCount', 'TotalRatingCount_CurrentVersion', 'AppRestriction', 'AppType', 'SupportDeviceNum', 'DisplayedScreenshotNum', 'SupportLanguageNum', 'VppLicense', 'RatingLevel']\n"
     ]
    }
   ],
   "source": [
    "rating_level = rating_level.withColumn('RatingLevel',rating_level.UserRating)\n",
    "rating_level_2 = rating_level.select('ID','RatingLevel')\n",
    "df3_2 = df3_1.join(rating_level_2, ['ID'], 'outer')\n",
    "df3_2 = df3_2.drop('No','AppName','Currency','UserRating','UserRating_CurrentVersion','Version')\n",
    "print(df3_2.columns)"
   ]
  },
  {
   "cell_type": "code",
   "execution_count": 23,
   "metadata": {
    "scrolled": false
   },
   "outputs": [
    {
     "data": {
      "image/png": "[encoded data removed]",
      "text/plain": [
       "<Figure size 432x288 with 1 Axes>"
      ]
     },
     "metadata": {},
     "output_type": "display_data"
    },
    {
     "data": {
      "image/png": "[encoded data removed]",
      "text/plain": [
       "<Figure size 432x288 with 1 Axes>"
      ]
     },
     "metadata": {},
     "output_type": "display_data"
    },
    {
     "data": {
      "image/png": "[encoded data removed]",
      "text/plain": [
       "<Figure size 432x288 with 1 Axes>"
      ]
     },
     "metadata": {},
     "output_type": "display_data"
    },
    {
     "data": {
      "image/png": "[encoded data removed]",
      "text/plain": [
       "<Figure size 432x288 with 1 Axes>"
      ]
     },
     "metadata": {},
     "output_type": "display_data"
    },
    {
     "data": {
      "image/png": "[encoded data removed]",
      "text/plain": [
       "<Figure size 432x288 with 1 Axes>"
      ]
     },
     "metadata": {},
     "output_type": "display_data"
    }
   ],
   "source": [
    "pandasdf3_2 = df3_2.toPandas()\n",
    "plt.scatter(x=pandasdf3_2['ID'], y=pandasdf3_2['AppSize_Bytes'])\n",
    "plt.xlabel('ID')\n",
    "plt.ylabel('AppSize_Bytes')\n",
    "plt.show()\n",
    "pandasdf3_2 = df3_2.toPandas()\n",
    "plt.scatter(x=pandasdf3_2['ID'], y=pandasdf3_2['TotalRatingCount'])\n",
    "plt.xlabel('ID')\n",
    "plt.ylabel('TotalRatingCount')\n",
    "plt.show()\n",
    "pandasdf3_2 = df3_2.toPandas()\n",
    "plt.scatter(x=pandasdf3_2['ID'], y=pandasdf3_2['TotalRatingCount_CurrentVersion'])\n",
    "plt.xlabel('ID')\n",
    "plt.ylabel('TotalRatingCount_CurrentVersion')\n",
    "plt.show()\n",
    "pandasdf3_2 = df3_2.toPandas()\n",
    "plt.scatter(x=pandasdf3_2['ID'], y=pandasdf3_2['SupportDeviceNum'])\n",
    "plt.xlabel('ID')\n",
    "plt.ylabel('SupportDeviceNum')\n",
    "plt.show()\n",
    "pandasdf3_2 = df3_2.toPandas()\n",
    "plt.scatter(x=pandasdf3_2['ID'], y=pandasdf3_2['SupportLanguageNum'])\n",
    "plt.xlabel('ID')\n",
    "plt.ylabel('SupportLanguageNum')\n",
    "plt.show()"
   ]
  },
  {
   "cell_type": "code",
   "execution_count": 24,
   "metadata": {
    "scrolled": false
   },
   "outputs": [
    {
     "name": "stdout",
     "output_type": "stream",
     "text": [
      "+-----------------------------------------------+\n",
      "|percentile(AppSize_Bytes, CAST(0.01 AS DOUBLE))|\n",
      "+-----------------------------------------------+\n",
      "|                                     3900805.12|\n",
      "+-----------------------------------------------+\n",
      "\n",
      "+-----------------------------------------------+\n",
      "|percentile(AppSize_Bytes, CAST(0.99 AS DOUBLE))|\n",
      "+-----------------------------------------------+\n",
      "|                           1.4759723622399957E9|\n",
      "+-----------------------------------------------+\n",
      "\n",
      "+--------------------------------------------------+\n",
      "|percentile(TotalRatingCount, CAST(0.01 AS DOUBLE))|\n",
      "+--------------------------------------------------+\n",
      "|                                               1.0|\n",
      "+--------------------------------------------------+\n",
      "\n",
      "+--------------------------------------------------+\n",
      "|percentile(TotalRatingCount, CAST(0.99 AS DOUBLE))|\n",
      "+--------------------------------------------------+\n",
      "|                                288713.30999999976|\n",
      "+--------------------------------------------------+\n",
      "\n",
      "+-----------------------------------------------------------------+\n",
      "|percentile(TotalRatingCount_CurrentVersion, CAST(0.01 AS DOUBLE))|\n",
      "+-----------------------------------------------------------------+\n",
      "|                                                              0.0|\n",
      "+-----------------------------------------------------------------+\n",
      "\n",
      "+-----------------------------------------------------------------+\n",
      "|percentile(TotalRatingCount_CurrentVersion, CAST(0.99 AS DOUBLE))|\n",
      "+-----------------------------------------------------------------+\n",
      "|                                                 7072.53999999999|\n",
      "+-----------------------------------------------------------------+\n",
      "\n",
      "+--------------------------------------------------+\n",
      "|percentile(SupportDeviceNum, CAST(0.01 AS DOUBLE))|\n",
      "+--------------------------------------------------+\n",
      "|                                              24.0|\n",
      "+--------------------------------------------------+\n",
      "\n",
      "+--------------------------------------------------+\n",
      "|percentile(SupportDeviceNum, CAST(0.99 AS DOUBLE))|\n",
      "+--------------------------------------------------+\n",
      "|                                              43.0|\n",
      "+--------------------------------------------------+\n",
      "\n",
      "+----------------------------------------------------+\n",
      "|percentile(SupportLanguageNum, CAST(0.01 AS DOUBLE))|\n",
      "+----------------------------------------------------+\n",
      "|                                                 1.0|\n",
      "+----------------------------------------------------+\n",
      "\n",
      "+----------------------------------------------------+\n",
      "|percentile(SupportLanguageNum, CAST(0.99 AS DOUBLE))|\n",
      "+----------------------------------------------------+\n",
      "|                                                34.0|\n",
      "+----------------------------------------------------+\n",
      "\n"
     ]
    }
   ],
   "source": [
    "treat_outlier = df3_2.select('ID','AppSize_Bytes','TotalRatingCount','TotalRatingCount_CurrentVersion',\n",
    "                             'SupportDeviceNum','SupportLanguageNum')\n",
    "\n",
    "treat_outlier.selectExpr('percentile(AppSize_Bytes, 0.01)').show() #3900805.12\n",
    "treat_outlier.selectExpr('percentile(AppSize_Bytes, 0.99)').show() #1.4759723622399957E\n",
    "treat_outlier =  treat_outlier.withColumn('AppSize_Bytes',\n",
    "    when(col('AppSize_Bytes') < 3900805.12, 3900805.12\n",
    "        ).when((col('AppSize_Bytes') >= 3900805.12) & (col('AppSize_Bytes') <= 1.4759723622399957E9),col('AppSize_Bytes')\n",
    "              ).when(col('AppSize_Bytes') > 1.4759723622399957E9, 1.4759723622399957E9)\n",
    ") \n",
    "treat_outlier.selectExpr('percentile(TotalRatingCount, 0.01)').show() #1.0\n",
    "treat_outlier.selectExpr('percentile(TotalRatingCount, 0.99)').show() #288713.30999999976\n",
    "treat_outlier =  treat_outlier.withColumn('TotalRatingCount',\n",
    "    when(col('TotalRatingCount') < 1.0, 1.0\n",
    "        ).when((col('TotalRatingCount') >= 1.0) & (col('TotalRatingCount') <= 288713.30999999976),col('TotalRatingCount')\n",
    "              ).when(col('TotalRatingCount') > 288713.30999999976, 288713.30999999976)\n",
    ") \n",
    "treat_outlier.selectExpr('percentile(TotalRatingCount_CurrentVersion, 0.01)').show() #0.0\n",
    "treat_outlier.selectExpr('percentile(TotalRatingCount_CurrentVersion, 0.99)').show() #7072.53999999999\n",
    "treat_outlier =  treat_outlier.withColumn('TotalRatingCount_CurrentVersion',\n",
    "    when(col('TotalRatingCount_CurrentVersion') < 0.0, 0.0\n",
    "        ).when((col('TotalRatingCount_CurrentVersion') >= 0.0) & (col('TotalRatingCount_CurrentVersion') <= 7072.53999999999),\n",
    "               col('TotalRatingCount_CurrentVersion')\n",
    "              ).when(col('TotalRatingCount_CurrentVersion') > 7072.53999999999, 7072.53999999999)\n",
    ")\n",
    "treat_outlier.selectExpr('percentile(SupportDeviceNum, 0.01)').show() #24.0\n",
    "treat_outlier.selectExpr('percentile(SupportDeviceNum, 0.99)').show() #43.0\n",
    "treat_outlier =  treat_outlier.withColumn('SupportDeviceNum',\n",
    "    when(col('SupportDeviceNum') < 24.0, 24.0\n",
    "        ).when((col('SupportDeviceNum') >= 24.0) & (col('SupportDeviceNum') <= 43.0),col('SupportDeviceNum')\n",
    "              ).when(col('SupportDeviceNum') > 43.0, 43.0)\n",
    ")\n",
    "treat_outlier.selectExpr('percentile(SupportLanguageNum, 0.01)').show() #1.0\n",
    "treat_outlier.selectExpr('percentile(SupportLanguageNum, 0.99)').show() #34.0\n",
    "treat_outlier =  treat_outlier.withColumn('SupportLanguageNum',\n",
    "    when(col('SupportLanguageNum') < 1.0, 1.0\n",
    "        ).when((col('SupportLanguageNum') >= 1.0) & (col('SupportLanguageNum') <= 34.0),col('SupportLanguageNum')\n",
    "              ).when(col('SupportLanguageNum') > 34.0, 34.0)\n",
    ")"
   ]
  },
  {
   "cell_type": "code",
   "execution_count": 25,
   "metadata": {
    "scrolled": true
   },
   "outputs": [
    {
     "name": "stdout",
     "output_type": "stream",
     "text": [
      "3.4269466017906467\n",
      "3.0687276714790577\n",
      "18.335633918081488\n",
      "5.291701155192468\n",
      "24.688606609845642\n",
      "5.198052964717038\n",
      "-2.595233323345456\n",
      "-2.391435685739513\n",
      "2.7091018590900244\n",
      "1.9221128968769046\n"
     ]
    }
   ],
   "source": [
    "pandastreat_outlier = treat_outlier.toPandas()\n",
    "print(pandasdf3_2['AppSize_Bytes'].skew())\n",
    "print(pandastreat_outlier['AppSize_Bytes'].skew())\n",
    "print(pandasdf3_2['TotalRatingCount'].skew())\n",
    "print(pandastreat_outlier['TotalRatingCount'].skew())\n",
    "print(pandasdf3_2['TotalRatingCount_CurrentVersion'].skew())\n",
    "print(pandastreat_outlier['TotalRatingCount_CurrentVersion'].skew())\n",
    "print(pandasdf3_2['SupportDeviceNum'].skew())\n",
    "print(pandastreat_outlier['SupportDeviceNum'].skew())\n",
    "print(pandasdf3_2['SupportLanguageNum'].skew())\n",
    "print(pandastreat_outlier['SupportLanguageNum'].skew())"
   ]
  },
  {
   "cell_type": "code",
   "execution_count": 26,
   "metadata": {
    "scrolled": false
   },
   "outputs": [
    {
     "data": {
      "image/png": "[encoded data removed]",
      "text/plain": [
       "<Figure size 432x288 with 1 Axes>"
      ]
     },
     "metadata": {},
     "output_type": "display_data"
    },
    {
     "data": {
      "image/png": "[encoded data removed]",
      "text/plain": [
       "<Figure size 432x288 with 1 Axes>"
      ]
     },
     "metadata": {},
     "output_type": "display_data"
    },
    {
     "data": {
      "image/png": "[encoded data removed]",
      "text/plain": [
       "<Figure size 432x288 with 1 Axes>"
      ]
     },
     "metadata": {},
     "output_type": "display_data"
    },
    {
     "data": {
      "image/png": "[encoded data removed]",
      "text/plain": [
       "<Figure size 432x288 with 1 Axes>"
      ]
     },
     "metadata": {},
     "output_type": "display_data"
    },
    {
     "data": {
      "image/png": "[encoded data removed]",
      "text/plain": [
       "<Figure size 432x288 with 1 Axes>"
      ]
     },
     "metadata": {},
     "output_type": "display_data"
    }
   ],
   "source": [
    "plt.scatter(x=pandastreat_outlier['ID'], y=pandastreat_outlier['AppSize_Bytes'])\n",
    "plt.xlabel('ID')\n",
    "plt.ylabel('AppSize_Bytes')\n",
    "plt.show()\n",
    "plt.scatter(x=pandastreat_outlier['ID'], y=pandastreat_outlier['TotalRatingCount'])\n",
    "plt.xlabel('ID')\n",
    "plt.ylabel('TotalRatingCount')\n",
    "plt.show()\n",
    "plt.scatter(x=pandastreat_outlier['ID'], y=pandastreat_outlier['TotalRatingCount_CurrentVersion'])\n",
    "plt.xlabel('ID')\n",
    "plt.ylabel('TotalRatingCount_CurrentVersion')\n",
    "plt.show()\n",
    "plt.scatter(x=pandastreat_outlier['ID'], y=pandastreat_outlier['SupportDeviceNum'])\n",
    "plt.xlabel('ID')\n",
    "plt.ylabel('SupportDeviceNum')\n",
    "plt.show()\n",
    "plt.scatter(x=pandastreat_outlier['ID'], y=pandastreat_outlier['SupportLanguageNum'])\n",
    "plt.xlabel('ID')\n",
    "plt.ylabel('SupportLanguageNum')\n",
    "plt.show()"
   ]
  },
  {
   "cell_type": "code",
   "execution_count": 27,
   "metadata": {
    "scrolled": false
   },
   "outputs": [
    {
     "name": "stdout",
     "output_type": "stream",
     "text": [
      "+-------+-------------------+\n",
      "|summary|      AppSize_Bytes|\n",
      "+-------+-------------------+\n",
      "|  count|               6224|\n",
      "|   mean|1.877444161646851E8|\n",
      "| stddev|2.775693251391134E8|\n",
      "|    min|             589824|\n",
      "|    max|         2116109312|\n",
      "+-------+-------------------+\n",
      "\n",
      "+-------+------------------+\n",
      "|summary|  TotalRatingCount|\n",
      "+-------+------------------+\n",
      "|  count|              6268|\n",
      "|   mean|14803.805520102105|\n",
      "| stddev|   80984.684372391|\n",
      "|    min|                 1|\n",
      "|    max|           2974676|\n",
      "+-------+------------------+\n",
      "\n",
      "+-------+-------------------------------+\n",
      "|summary|TotalRatingCount_CurrentVersion|\n",
      "+-------+-------------------------------+\n",
      "|  count|                           6268|\n",
      "|   mean|              528.6073707721762|\n",
      "| stddev|              4196.699811965392|\n",
      "|    min|                              0|\n",
      "|    max|                         177050|\n",
      "+-------+-------------------------------+\n",
      "\n",
      "+-------+-----------------+\n",
      "|summary| SupportDeviceNum|\n",
      "+-------+-----------------+\n",
      "|  count|             6268|\n",
      "|   mean|37.25941289087428|\n",
      "| stddev| 3.90791145276866|\n",
      "|    min|                9|\n",
      "|    max|               47|\n",
      "+-------+-----------------+\n",
      "\n",
      "+-------+------------------+\n",
      "|summary|SupportLanguageNum|\n",
      "+-------+------------------+\n",
      "|  count|              6268|\n",
      "|   mean| 5.890236119974474|\n",
      "| stddev| 8.202601315083994|\n",
      "|    min|                 0|\n",
      "|    max|                75|\n",
      "+-------+------------------+\n",
      "\n"
     ]
    }
   ],
   "source": [
    "df3_2.describe('AppSize_Bytes').show()\n",
    "df3_2.describe('TotalRatingCount').show()\n",
    "df3_2.describe('TotalRatingCount_CurrentVersion').show()\n",
    "df3_2.describe('SupportDeviceNum').show()\n",
    "df3_2.describe('SupportLanguageNum').show()"
   ]
  },
  {
   "cell_type": "code",
   "execution_count": 28,
   "metadata": {
    "scrolled": false
   },
   "outputs": [
    {
     "name": "stdout",
     "output_type": "stream",
     "text": [
      "+-------+--------------------+\n",
      "|summary|       AppSize_Bytes|\n",
      "+-------+--------------------+\n",
      "|  count|                6224|\n",
      "|   mean|1.8502306639712074E8|\n",
      "| stddev|2.6244575218511832E8|\n",
      "|    min|          3900805.12|\n",
      "|    max|1.4759723622399957E9|\n",
      "+-------+--------------------+\n",
      "\n",
      "+-------+------------------+\n",
      "|summary|  TotalRatingCount|\n",
      "+-------+------------------+\n",
      "|  count|              6268|\n",
      "|   mean|11737.822196873012|\n",
      "| stddev| 39533.97539293032|\n",
      "|    min|               1.0|\n",
      "|    max|288713.30999999976|\n",
      "+-------+------------------+\n",
      "\n",
      "+-------+-------------------------------+\n",
      "|summary|TotalRatingCount_CurrentVersion|\n",
      "+-------+-------------------------------+\n",
      "|  count|                           6268|\n",
      "|   mean|             328.18140076579476|\n",
      "| stddev|              973.4347449258054|\n",
      "|    min|                            0.0|\n",
      "|    max|               7072.53999999999|\n",
      "+-------+-------------------------------+\n",
      "\n",
      "+-------+------------------+\n",
      "|summary|  SupportDeviceNum|\n",
      "+-------+------------------+\n",
      "|  count|              6268|\n",
      "|   mean| 37.27632418634333|\n",
      "| stddev|3.6933996500282777|\n",
      "|    min|              24.0|\n",
      "|    max|              43.0|\n",
      "+-------+------------------+\n",
      "\n",
      "+-------+------------------+\n",
      "|summary|SupportLanguageNum|\n",
      "+-------+------------------+\n",
      "|  count|              6268|\n",
      "|   mean| 5.748883216336949|\n",
      "| stddev| 7.466116665741399|\n",
      "|    min|               1.0|\n",
      "|    max|              34.0|\n",
      "+-------+------------------+\n",
      "\n"
     ]
    }
   ],
   "source": [
    "treat_outlier.describe('AppSize_Bytes').show()\n",
    "treat_outlier.describe('TotalRatingCount').show()\n",
    "treat_outlier.describe('TotalRatingCount_CurrentVersion').show()\n",
    "treat_outlier.describe('SupportDeviceNum').show()\n",
    "treat_outlier.describe('SupportLanguageNum').show()"
   ]
  },
  {
   "cell_type": "code",
   "execution_count": 29,
   "metadata": {},
   "outputs": [
    {
     "name": "stdout",
     "output_type": "stream",
     "text": [
      "['ID', 'AppSize_Bytes', 'Price', 'TotalRatingCount', 'TotalRatingCount_CurrentVersion', 'AppRestriction', 'AppType']\n",
      "['ID', 'SupportDeviceNum', 'DisplayedScreenshotNum', 'SupportLanguageNum', 'VppLicense', 'RatingLevel']\n"
     ]
    }
   ],
   "source": [
    "data_divided_1 = df3_2.select('ID','AppSize_Bytes','Price','TotalRatingCount','TotalRatingCount_CurrentVersion',\n",
    "                             'AppRestriction','AppType')\n",
    "data_divided_2 = df3_2.select('ID','SupportDeviceNum','DisplayedScreenshotNum',\n",
    "                              'SupportLanguageNum','VppLicense','RatingLevel')\n",
    "print(data_divided_1.columns)\n",
    "print(data_divided_2.columns)"
   ]
  },
  {
   "cell_type": "code",
   "execution_count": 30,
   "metadata": {},
   "outputs": [
    {
     "name": "stdout",
     "output_type": "stream",
     "text": [
      "6268 12\n"
     ]
    }
   ],
   "source": [
    "df_merge = data_divided_1.join(data_divided_2, ['ID'], 'outer')\n",
    "print(df_merge.count(),len(df_merge.columns))"
   ]
  },
  {
   "cell_type": "code",
   "execution_count": 31,
   "metadata": {},
   "outputs": [],
   "source": [
    "df4 = df_merge\n",
    "df4 = df4.drop('AppSize_Bytes','TotalRatingCount','TotalRatingCount_CurrentVersion',\n",
    "               'SupportDeviceNum','SupportLanguageNum')\n",
    "df4 = df4.join(treat_outlier, ['ID'], 'outer')"
   ]
  },
  {
   "cell_type": "code",
   "execution_count": 32,
   "metadata": {},
   "outputs": [
    {
     "name": "stdout",
     "output_type": "stream",
     "text": [
      "+-----------+-----+\n",
      "|RatingLevel|count|\n",
      "+-----------+-----+\n",
      "| Low Rating| 1487|\n",
      "|High Rating| 4781|\n",
      "+-----------+-----+\n",
      "\n"
     ]
    }
   ],
   "source": [
    "#--------------------------------------------------Step 4 Transformation--------------------------------------------------\n",
    "df4.groupby('RatingLevel').count().show()"
   ]
  },
  {
   "cell_type": "code",
   "execution_count": 33,
   "metadata": {
    "scrolled": false
   },
   "outputs": [
    {
     "name": "stdout",
     "output_type": "stream",
     "text": [
      "+---------+-----------+\n",
      "|       ID|Ratinglevel|\n",
      "+---------+-----------+\n",
      "|294631159|High Rating|\n",
      "|294934058| Low Rating|\n",
      "|320029256| Low Rating|\n",
      "|458813562| Low Rating|\n",
      "|461703208|High Rating|\n",
      "|567289775| Low Rating|\n",
      "|586280100|High Rating|\n",
      "|621491290|High Rating|\n",
      "|649820448| Low Rating|\n",
      "|710535379|High Rating|\n",
      "|847985808|High Rating|\n",
      "|881267423|High Rating|\n",
      "|882507985|High Rating|\n",
      "|900404152|High Rating|\n",
      "|917932200|High Rating|\n",
      "|925056174|High Rating|\n",
      "|956373528|High Rating|\n",
      "|966333863|High Rating|\n",
      "|975985952|High Rating|\n",
      "|982936366|High Rating|\n",
      "+---------+-----------+\n",
      "only showing top 20 rows\n",
      "\n",
      "+---------+-----------+\n",
      "|       ID|RatingLevel|\n",
      "+---------+-----------+\n",
      "|294631159|          1|\n",
      "|294934058|          0|\n",
      "|320029256|          0|\n",
      "|458813562|          0|\n",
      "|461703208|          1|\n",
      "|567289775|          0|\n",
      "|586280100|          1|\n",
      "|621491290|          1|\n",
      "|649820448|          0|\n",
      "|710535379|          1|\n",
      "|847985808|          1|\n",
      "|881267423|          1|\n",
      "|882507985|          1|\n",
      "|900404152|          1|\n",
      "|917932200|          1|\n",
      "|925056174|          1|\n",
      "|956373528|          1|\n",
      "|966333863|          1|\n",
      "|975985952|          1|\n",
      "|982936366|          1|\n",
      "+---------+-----------+\n",
      "only showing top 20 rows\n",
      "\n"
     ]
    }
   ],
   "source": [
    "boost_sample = df4.withColumn(\n",
    "    'RatingLevel',\n",
    "    when(col('RatingLevel') == 'Low Rating', 0).when(col('RatingLevel') == 'High Rating', 1)\n",
    ")\n",
    "df4.select('ID','Ratinglevel').show()\n",
    "boost_sample.select('ID','RatingLevel').show()"
   ]
  },
  {
   "cell_type": "code",
   "execution_count": 34,
   "metadata": {},
   "outputs": [
    {
     "name": "stdout",
     "output_type": "stream",
     "text": [
      "+-----------+-----+\n",
      "|RatingLevel|count|\n",
      "+-----------+-----+\n",
      "|          0| 4781|\n",
      "|          1| 4781|\n",
      "+-----------+-----+\n",
      "\n"
     ]
    }
   ],
   "source": [
    "pandassample = boost_sample.toPandas()\n",
    "count_boost_x, count_boost_y = pandassample['RatingLevel'].value_counts()\n",
    "boost_x = pandassample[pandassample['RatingLevel']==1]\n",
    "boost_y = pandassample[pandassample['RatingLevel']==0]\n",
    "oversample_y = boost_y.sample(count_boost_x, replace = True)\n",
    "\n",
    "boost_x_values = boost_x.values.tolist()\n",
    "boost_x_columns = boost_x.columns.tolist()\n",
    "boost_x = spark.createDataFrame(boost_x_values, boost_x_columns)\n",
    "oversample_y_values = oversample_y.values.tolist()\n",
    "oversample_y_columns = oversample_y.columns.tolist()\n",
    "oversample_y = spark.createDataFrame(oversample_y_values, oversample_y_columns)\n",
    "\n",
    "boost_data = boost_x.union(oversample_y)\n",
    "boost_data.groupby('RatingLevel').count().show()"
   ]
  },
  {
   "cell_type": "code",
   "execution_count": 35,
   "metadata": {},
   "outputs": [
    {
     "data": {
      "image/png": "[encoded data removed]",
      "text/plain": [
       "<Figure size 432x288 with 1 Axes>"
      ]
     },
     "metadata": {},
     "output_type": "display_data"
    }
   ],
   "source": [
    "df4 = boost_data.withColumn(\n",
    "    'RatingLevel',\n",
    "    when(col('RatingLevel') == 0, 'Low Rating').when(col('RatingLevel') == 1, 'High Rating')\n",
    ")\n",
    "boost_data_bar = df4.groupby('RatingLevel').count()\n",
    "boost_data_x = boost_data_bar.toPandas()['RatingLevel'].values.tolist()\n",
    "boost_data_y = boost_data_bar.toPandas()['count'].values.tolist()\n",
    "plt.bar(boost_data_x, boost_data_y, width = 0.4)\n",
    "plt.xlabel('Rating Level')\n",
    "plt.ylabel('Count')\n",
    "plt.show()"
   ]
  },
  {
   "cell_type": "code",
   "execution_count": 36,
   "metadata": {},
   "outputs": [
    {
     "data": {
      "image/png": "[encoded data removed]",
      "text/plain": [
       "<Figure size 432x288 with 1 Axes>"
      ]
     },
     "metadata": {},
     "output_type": "display_data"
    }
   ],
   "source": [
    "price_level_before = df3_2.withColumn(\n",
    "    'Price',\n",
    "    when(col('Price') == 0, 'Free').when(col('Price') > 0, 'Paid')\n",
    ")\n",
    "price_level_before_bar = price_level_before.groupby('Price').count()\n",
    "price_level_before_x = price_level_before_bar.toPandas()['Price'].values.tolist()\n",
    "price_level_before_y = price_level_before_bar.toPandas()['count'].values.tolist()\n",
    "plt.bar(price_level_before_x, price_level_before_y, width = 0.4)\n",
    "plt.xlabel('Price Level')\n",
    "plt.ylabel('Count')\n",
    "plt.show()"
   ]
  },
  {
   "cell_type": "code",
   "execution_count": 37,
   "metadata": {},
   "outputs": [
    {
     "data": {
      "image/png": "[encoded data removed]",
      "text/plain": [
       "<Figure size 432x288 with 1 Axes>"
      ]
     },
     "metadata": {},
     "output_type": "display_data"
    }
   ],
   "source": [
    "price_level_after = df4.withColumn(\n",
    "    'Price',\n",
    "    when(col('Price') == 0, 'Free').when(col('Price') > 0, 'Paid')\n",
    ")\n",
    "price_level_after_bar = price_level_after.groupby('Price').count()\n",
    "price_level_after_x = price_level_after_bar.toPandas()['Price'].values.tolist()\n",
    "price_level_after_y = price_level_after_bar.toPandas()['count'].values.tolist()\n",
    "plt.bar(price_level_after_x, price_level_after_y, width = 0.4)\n",
    "plt.xlabel('Price Level')\n",
    "plt.ylabel('Count')\n",
    "plt.show()"
   ]
  },
  {
   "cell_type": "code",
   "execution_count": 38,
   "metadata": {},
   "outputs": [
    {
     "name": "stdout",
     "output_type": "stream",
     "text": [
      "46.02744097000638\n",
      "46.10960050198703\n"
     ]
    }
   ],
   "source": [
    "print(price_level_before.filter((col('Price')=='Paid')).count()/price_level_before.count() * 100)\n",
    "print(price_level_after.filter((col('Price')=='Paid')).count()/price_level_after.count() * 100)"
   ]
  },
  {
   "cell_type": "code",
   "execution_count": 39,
   "metadata": {
    "scrolled": false
   },
   "outputs": [
    {
     "data": {
      "text/plain": [
       "[('AppSize_Bytes', 'double'),\n",
       " ('Price', 'double'),\n",
       " ('TotalRatingCount', 'double'),\n",
       " ('TotalRatingCount_CurrentVersion', 'double'),\n",
       " ('AppRestriction', 'int'),\n",
       " ('AppType', 'int'),\n",
       " ('SupportDeviceNum', 'double'),\n",
       " ('DisplayedScreenshotNum', 'bigint'),\n",
       " ('SupportLanguageNum', 'double'),\n",
       " ('VppLicense', 'bigint'),\n",
       " ('RatingLevel', 'int')]"
      ]
     },
     "execution_count": 39,
     "metadata": {},
     "output_type": "execute_result"
    }
   ],
   "source": [
    "feature_data = df4.select('AppSize_Bytes','Price','TotalRatingCount','TotalRatingCount_CurrentVersion',\n",
    "                          'AppRestriction','AppType','SupportDeviceNum','DisplayedScreenshotNum',\n",
    "                          'SupportLanguageNum','VppLicense','RatingLevel')\n",
    "feature_data = feature_data.withColumn(\n",
    "    'AppRestriction',\n",
    "    when(col('AppRestriction') == '4+', 1).when(col('AppRestriction') == '12+', 2)\n",
    "    .when(col('AppRestriction') == '9+', 3).when(col('AppRestriction') == '17+', 4)\n",
    ")\n",
    "feature_data = feature_data.withColumn(\n",
    "    'AppType',\n",
    "    when(col('AppType') == 'Games', 1).when(col('AppType') == 'Entertainment', 2)\n",
    "    .when(col('AppType') == 'Education', 3).when(col('AppType') == 'Photo & Video', 4)\n",
    "    .when(col('AppType') == 'Utilities', 5).when(col('AppType') == 'Social Networking', 6)\n",
    "    .when(col('AppType') == 'Sports', 7).when(col('AppType') == 'Productivity', 8)\n",
    "    .when(col('AppType') == 'Health & Fitness', 9).when(col('AppType') == 'Lifestyle', 10)\n",
    "    .when(col('AppType') == 'Music', 11).when(col('AppType') == 'Shopping', 12)\n",
    "    .when(col('AppType') == 'Finance', 13).when(col('AppType') == 'Weather', 14)\n",
    "    .when(col('AppType') == 'News', 15).when(col('AppType') == 'Travel', 16)\n",
    "    .when(col('AppType') == 'Food & Drink', 17).when(col('AppType') == 'Book', 18)\n",
    "    .when(col('AppType') == 'Business', 19).when(col('AppType') == 'Reference', 20)\n",
    "    .when(col('AppType') == 'Navigation', 21).when(col('AppType') == 'Medical', 22)\n",
    "    .when(col('AppType') == 'Catalogs', 23)\n",
    ")\n",
    "feature_data = feature_data.withColumn(\n",
    "    'RatingLevel',\n",
    "    when(col('RatingLevel') == 'Low Rating', 0).when(col('RatingLevel') == 'High Rating', 1)\n",
    ")\n",
    "feature_data.dtypes"
   ]
  },
  {
   "cell_type": "code",
   "execution_count": 40,
   "metadata": {},
   "outputs": [
    {
     "data": {
      "text/plain": [
       "SparseVector(10, {0: 0.183, 1: 0.0725, 2: 0.1966, 3: 0.191, 4: 0.0454, 5: 0.1045, 6: 0.0583, 7: 0.0527, 8: 0.094, 9: 0.0019})"
      ]
     },
     "execution_count": 40,
     "metadata": {},
     "output_type": "execute_result"
    }
   ],
   "source": [
    "feature_assembler = VectorAssembler(\n",
    "  inputCols=['AppSize_Bytes','Price','TotalRatingCount','TotalRatingCount_CurrentVersion',\n",
    "             'AppRestriction','AppType','SupportDeviceNum','DisplayedScreenshotNum','SupportLanguageNum','VppLicense'],\n",
    "              outputCol=\"Column\")\n",
    "feature_output = feature_assembler.transform(feature_data)\n",
    "feature_indexer = StringIndexer(inputCol=\"RatingLevel\", outputCol=\"Output\")\n",
    "feature_output_fixed = feature_indexer.fit(feature_output).transform(feature_output)\n",
    "final_feature_data = feature_output_fixed.select(\"Column\",'Output')\n",
    "RF = RandomForestRegressor().setLabelCol('Output').setFeaturesCol('Column').setMaxBins(64).setMaxDepth(16)\n",
    "feature_model = RF.fit(final_feature_data)\n",
    "feature_model.featureImportances"
   ]
  },
  {
   "cell_type": "code",
   "execution_count": 41,
   "metadata": {},
   "outputs": [
    {
     "name": "stdout",
     "output_type": "stream",
     "text": [
      "['AppSize_Bytes', 'Price', 'TotalRatingCount', 'TotalRatingCount_CurrentVersion', 'AppType', 'SupportDeviceNum', 'DisplayedScreenshotNum', 'SupportLanguageNum', 'RatingLevel']\n"
     ]
    }
   ],
   "source": [
    "df4_1 = df4.select('AppSize_Bytes','Price','TotalRatingCount','TotalRatingCount_CurrentVersion',\n",
    "                   'AppType','SupportDeviceNum','DisplayedScreenshotNum','SupportLanguageNum','RatingLevel')\n",
    "print(df4_1.columns)"
   ]
  },
  {
   "cell_type": "code",
   "execution_count": 42,
   "metadata": {},
   "outputs": [
    {
     "name": "stdout",
     "output_type": "stream",
     "text": [
      "9562 9\n"
     ]
    }
   ],
   "source": [
    "print(df4_1.count(),len(df4_1.columns))"
   ]
  }
 ],
 "metadata": {
  "kernelspec": {
   "display_name": "Python 3",
   "language": "python",
   "name": "python3"
  },
  "language_info": {
   "codemirror_mode": {
    "name": "ipython",
    "version": 3
   },
   "file_extension": ".py",
   "mimetype": "text/x-python",
   "name": "python",
   "nbconvert_exporter": "python",
   "pygments_lexer": "ipython3",
   "version": "3.5.2"
  }
 },
 "nbformat": 4,
 "nbformat_minor": 2
}
